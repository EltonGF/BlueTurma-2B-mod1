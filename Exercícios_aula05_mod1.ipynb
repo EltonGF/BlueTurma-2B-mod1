{
  "nbformat": 4,
  "nbformat_minor": 0,
  "metadata": {
    "colab": {
      "name": "Exercícios_aula05_mod1.ipynb",
      "provenance": [],
      "authorship_tag": "ABX9TyPiPXnfAnvuY4Z8A5avDvgV",
      "include_colab_link": true
    },
    "kernelspec": {
      "name": "python3",
      "display_name": "Python 3"
    },
    "language_info": {
      "name": "python"
    }
  },
  "cells": [
    {
      "cell_type": "markdown",
      "metadata": {
        "id": "view-in-github",
        "colab_type": "text"
      },
      "source": [
        "<a href=\"https://colab.research.google.com/github/EltonGF/BlueTurma-2B-mod1/blob/main/Exerc%C3%ADcios_aula05_mod1.ipynb\" target=\"_parent\"><img src=\"https://colab.research.google.com/assets/colab-badge.svg\" alt=\"Open In Colab\"/></a>"
      ]
    },
    {
      "cell_type": "code",
      "metadata": {
        "colab": {
          "base_uri": "https://localhost:8080/"
        },
        "id": "gAbMmWnQqBw1",
        "outputId": "75a50dae-ed43-42cf-cb4b-06b841defcff"
      },
      "source": [
        "# Minha forma - Ex.1\n",
        "\n",
        "num1 = int(input(\"Digite um número inteiro: \"))\n",
        "num2 = int(input(\"Digite outro número inteiro: \"))\n",
        "num3 = int(input(\"Digite mais um número inteiro: \"))\n",
        "\n",
        "maior = num1\n",
        "if num2 > maior :\n",
        "  maior = num2\n",
        "if num3 > maior :\n",
        "  maior = num3\n",
        "\n",
        "menor = num1\n",
        "if num2 < menor :\n",
        "  menor = num2\n",
        "if num3 < menor :\n",
        "  menor = num3\n",
        "\n",
        "print(\"O maior número é: \", maior)\n",
        "print(\"O menor número é: \", menor)\n"
      ],
      "execution_count": null,
      "outputs": [
        {
          "output_type": "stream",
          "text": [
            "Digite um número inteiro: 52\n",
            "Digite outro número inteiro: 644\n",
            "Digite mais um número inteiro: 58\n",
            "O maior número é:  644\n",
            "O menor número é:  52\n"
          ],
          "name": "stdout"
        }
      ]
    },
    {
      "cell_type": "code",
      "metadata": {
        "colab": {
          "base_uri": "https://localhost:8080/"
        },
        "id": "pyeA1EDF5COS",
        "outputId": "801c75ef-77c1-4e31-c020-8bb336143aac"
      },
      "source": [
        "# Forma 2 \n",
        "\n",
        "num1 = int(input(\"Digite um número inteiro: \"))\n",
        "num2 = int(input(\"Digite outro número inteiro: \"))\n",
        "num3 = int(input(\"Digite mais um número inteiro: \"))\n",
        "\n",
        "if num1 > num2 and num1 > num3:\n",
        "  print(\"O maior número é: \",num1)\n",
        "elif num2 > num1 and num2 > num3:\n",
        "  print(\"O maior número é: \",num2)\n",
        "elif num3 > num1 and num3 > num2:\n",
        "  print(\"O maior número é:\",num3)\n",
        " \n",
        "if num1 < num2 and num1 < num3:\n",
        "  print(\"O menor número é: \",num1)\n",
        "elif num2 < num1 and num2 < num3:\n",
        "  print(\"O menor número é: \",num2)\n",
        "elif num3 < num1 and num3 < num2:\n",
        "  print(\"O menor número é:\",num3)\n",
        "\n"
      ],
      "execution_count": null,
      "outputs": [
        {
          "output_type": "stream",
          "text": [
            "Digite um número inteiro: 1\n",
            "Digite outro número inteiro: 3\n",
            "Digite mais um número inteiro: 2\n",
            "O maior número é:  3\n",
            "O menor número é:  1\n"
          ],
          "name": "stdout"
        }
      ]
    },
    {
      "cell_type": "code",
      "metadata": {
        "colab": {
          "base_uri": "https://localhost:8080/"
        },
        "id": "SeA_bdOBw9H1",
        "outputId": "335614d1-0cff-4e02-e5d4-15c13c231f34"
      },
      "source": [
        "# Ex.2\n",
        "\n",
        "num1 = float(input(\"Digite um número: \"))\n",
        "num2 = float(input(\"Digite outro número: \"))\n",
        "if num1 > num2 :\n",
        "  print(f\"O número maior é: {num1:.2f}\")\n",
        "elif num1 == num2 :\n",
        "  print(\"Os números são iguais!\")\n",
        "else :\n",
        "  print(f\"O número maior é: {num2:.2f}\")"
      ],
      "execution_count": null,
      "outputs": [
        {
          "output_type": "stream",
          "text": [
            "Digite um número: 8\n",
            "Digite outro número: 10\n",
            "O número maior é: 10.00\n"
          ],
          "name": "stdout"
        }
      ]
    },
    {
      "cell_type": "code",
      "metadata": {
        "colab": {
          "base_uri": "https://localhost:8080/"
        },
        "id": "WHMR-2C4zFWr",
        "outputId": "ae13bc33-8a6d-43cd-dd49-3a61aab23192"
      },
      "source": [
        "# Ex.3\n",
        "\n",
        "num1 = float(input(\"Digite um número: \"))\n",
        "if num1 > 0 :\n",
        "  print(\"O número\",num1,\"é positivo.\")\n",
        "elif num1 == 0 :\n",
        "  print(\"O número\",num1,\"é nulo.\")\n",
        "else : \n",
        "  print(\"O número\",num1,\"é negativo.\")"
      ],
      "execution_count": null,
      "outputs": [
        {
          "output_type": "stream",
          "text": [
            "Digite um número: -0.01\n",
            "O número -0.01 é negativo.\n"
          ],
          "name": "stdout"
        }
      ]
    },
    {
      "cell_type": "code",
      "metadata": {
        "colab": {
          "base_uri": "https://localhost:8080/"
        },
        "id": "p-KGSy_G1tEW",
        "outputId": "d39f280f-5da4-4517-ea32-59e632502f68"
      },
      "source": [
        "# Ex.4\n",
        "\n",
        "print(\"Digite uma letra para SEXO de acordo com o índice.\")\n",
        "print(\"F - Feminino ou M - Masculino\")\n",
        "sexo = input(\"Defina seu sexo: \").upper()\n",
        "if sexo == \"M\" :\n",
        "  print(\"Masculino\")\n",
        "elif sexo != \"M\" and sexo != \"F\" :\n",
        "  print(\"Sexo inválido\")\n",
        "else :\n",
        "  print(\"Feminino\")"
      ],
      "execution_count": null,
      "outputs": [
        {
          "output_type": "stream",
          "text": [
            "Digite uma letra para SEXO de acordo com o índice.\n",
            "F - Feminino ou M - Masculino\n",
            "Defina seu sexo: N\n",
            "Sexo inválido\n"
          ],
          "name": "stdout"
        }
      ]
    },
    {
      "cell_type": "code",
      "metadata": {
        "colab": {
          "base_uri": "https://localhost:8080/"
        },
        "id": "8fNOKnou5ZMf",
        "outputId": "85be1284-66a6-4aaf-a135-50c50a85a035"
      },
      "source": [
        "# Ex.5\n",
        "\n",
        "nota = float(input(\"Digite a nota do aluno entre 0 e 10: \"))\n",
        "if nota < 6 :\n",
        "  print(\"Nota F\")\n",
        "elif nota >= 6 and nota < 7 :\n",
        "  print(\"Nota D\")\n",
        "elif nota >= 7 and nota < 8 :\n",
        "  print(\"Nota C\")\n",
        "elif nota >=8 and nota < 9 :\n",
        "  print(\"Nota B\")\n",
        "else :\n",
        "  print(\"Nota A. Parabéns!\")\n",
        "\n"
      ],
      "execution_count": null,
      "outputs": [
        {
          "output_type": "stream",
          "text": [
            "Digite a nota do aluno entre 0 e 10: 9.2\n",
            "Nota A. Parabéns!\n"
          ],
          "name": "stdout"
        }
      ]
    },
    {
      "cell_type": "code",
      "metadata": {
        "colab": {
          "base_uri": "https://localhost:8080/"
        },
        "id": "W0Qs9FPW7D36",
        "outputId": "c8c25171-71cb-47d3-c749-e216c7aba96a"
      },
      "source": [
        "# Ex.6\n",
        "\n",
        "tipo_letra = input(\"Digite uma letra: \").upper()\n",
        "if tipo_letra == \"A\" or tipo_letra == \"E\" or tipo_letra == \"I\" or tipo_letra == \"O\" or tipo_letra == \"U\" :\n",
        "  print(\"A letra\",tipo_letra,\"é uma vogal.\")\n",
        "else :\n",
        "  print(\"A letra\",tipo_letra,\"é uma consoante.\")\n",
        "\n"
      ],
      "execution_count": null,
      "outputs": [
        {
          "output_type": "stream",
          "text": [
            "Digite uma letra: O\n",
            "A letra O é uma vogal.\n"
          ],
          "name": "stdout"
        }
      ]
    },
    {
      "cell_type": "code",
      "metadata": {
        "colab": {
          "base_uri": "https://localhost:8080/"
        },
        "id": "3wU2pcVt8e9x",
        "outputId": "b25313a1-c7d7-42a1-d926-97e11da6c229"
      },
      "source": [
        "# Projeto 1\n",
        "\n",
        "arma = input(\"Defina seu tipo de arma: Medieval ou Futurista? \").upper()\n",
        "if arma == \"MEDIEVAL\" :\n",
        "  print(\"Espada\")\n",
        "elif arma == \"FUTURISTA\" :\n",
        "  print(\"Sabre de luz\")\n",
        "else :\n",
        "  print(\"Tente novamente.\")"
      ],
      "execution_count": 1,
      "outputs": [
        {
          "output_type": "stream",
          "text": [
            "Defina seu tipo de arma: Medieval ou Futurista? heman\n",
            "Tente novamente.\n"
          ],
          "name": "stdout"
        }
      ]
    },
    {
      "cell_type": "code",
      "metadata": {
        "colab": {
          "base_uri": "https://localhost:8080/"
        },
        "id": "er5qflnc9zz_",
        "outputId": "c8f573cb-e25f-47cd-8069-939ec2f4a2a2"
      },
      "source": [
        "# Continuação Projeto 1\n",
        "\n",
        "arma = input(\"Defina seu tipo de arma: Medieval ou Futurista? \").upper()\n",
        "if arma == \"MEDIEVAL\" :\n",
        "  print(\"Espada\")\n",
        "elif arma == \"FUTURISTA\" :\n",
        "  print(\"Sabre de luz\")\n",
        "else :\n",
        "  print(\"Tente novamente.\")\n",
        "if arma == \"MEDIEVAL\" :\n",
        "  arma = \"Espada\"\n",
        "else :\n",
        "  arma = \"Sabre de luz\"\n",
        "  print(\"A arma utilizada para ataque ao chefâo será:\",arma)\n",
        "if arma == \"Espada\" :\n",
        "  print(\"Você ainda não matou o chefão. Tente novamente.\")\n",
        "else :\n",
        "  print(\"Você derrotou o chefão com o sabre de luz\")\n",
        "\n",
        "# Pesquisar como fazer loop"
      ],
      "execution_count": 9,
      "outputs": [
        {
          "output_type": "stream",
          "text": [
            "Defina seu tipo de arma: Medieval ou Futurista? futurista\n",
            "Sabre de luz\n",
            "A arma utilizada para ataque ao chefâo será: Sabre de luz\n",
            "Você derrotou o chefão com o sabre de luz\n"
          ],
          "name": "stdout"
        }
      ]
    },
    {
      "cell_type": "code",
      "metadata": {
        "colab": {
          "base_uri": "https://localhost:8080/"
        },
        "id": "hTNByV9z9adV",
        "outputId": "c0a762b9-0958-4f04-8902-82fe14720fc5"
      },
      "source": [
        "# Desafio 1\n",
        "\n",
        "salario = float(input(\"Digite o salário atual do colaborador: \"))\n",
        "valor_aumento = 1.20\n",
        "valor_aumento1 = 1.15\n",
        "valor_aumento2 = 1.10\n",
        "valor_aumento3 = 1.05\n",
        "if salario <= 280 :\n",
        "  valor_reajuste = salario * valor_aumento\n",
        "  print(f\"Salário atual do colaborador: R$ {salario :.2f}\")\n",
        "  valor_perc_reajuste = (valor_aumento - 1)*100\n",
        "  print(f\"O percentual de reajuste aplicado foi de {valor_perc_reajuste :.2f}%\")\n",
        "  print(f\"O valor do aumento é de R$ {valor_reajuste - salario :.2f}\")\n",
        "  print(f\"O valor do salário com aumento é de R$ {valor_reajuste :.2f}\")\n",
        "elif salario > 280 and salario <= 700 :\n",
        "  valor_reajuste = salario * valor_aumento1\n",
        "  print(f\"Salário atual do colaborador: R$ {salario :.2f}\")\n",
        "  valor_perc_reajuste = (valor_aumento1 - 1)*100\n",
        "  print(f\"O percentual de reajuste aplicado foi de {valor_perc_reajuste :.2f}%\")\n",
        "  print(f\"O valor do aumento é de R$ {valor_reajuste - salario :.2f}\")\n",
        "  print(f\"O valor do salário com aumento é de R$ {valor_reajuste :.2f}\")\n",
        "elif salario > 700 and salario <= 1500 :\n",
        "  valor_reajuste = salario * valor_aumento2\n",
        "  print(f\"Salário atual do colaborador: R$ {salario :.2f}\")\n",
        "  valor_perc_reajuste = (valor_aumento2 - 1)*100\n",
        "  print(f\"O percentual de reajuste aplicado foi de {valor_perc_reajuste :.2f}%\")\n",
        "  print(f\"O valor do aumento é de R$ {valor_reajuste - salario :.2f}\")\n",
        "  print(f\"O valor do salário com aumento é de R$ {valor_reajuste :.2f}\")\n",
        "else :\n",
        "  valor_reajuste = salario * valor_aumento3\n",
        "  print(f\"Salário atual do colaborador: R$ {salario :.2f}\")\n",
        "  valor_perc_reajuste = (valor_aumento3 - 1)*100\n",
        "  print(f\"O percentual de reajuste aplicado foi de {valor_perc_reajuste :.2f}%\")\n",
        "  print(f\"O valor do aumento é de R$ {valor_reajuste - salario :.2f}\")\n",
        "  print(f\"O valor do salário com aumento é de R$ {valor_reajuste :.2f}\")"
      ],
      "execution_count": 21,
      "outputs": [
        {
          "output_type": "stream",
          "text": [
            "Digite o salário atual do colaborador: R$ 3000\n",
            "Salário atual do colaborador: R$ 3000.00\n",
            "O percentual de reajuste aplicado foi de 5.00%\n",
            "O valor do aumento é de R$ 150.00\n",
            "O valor do salário com aumento é de R$ 3150.00\n"
          ],
          "name": "stdout"
        }
      ]
    },
    {
      "cell_type": "code",
      "metadata": {
        "colab": {
          "base_uri": "https://localhost:8080/"
        },
        "id": "j-zuJIoiIOpS",
        "outputId": "cd78db6d-eac3-4ca5-e47c-4513562a4dfa"
      },
      "source": [
        "# Desafio 2\n",
        "\n",
        "print(\"Notas disponíveis para saque: 100, 50, 10, 5 e 1\")\n",
        "print(\"Valor disponível para saque neste terminal: Mínimo - R$10.00 e Máximo - R$600.00\")\n",
        "valor_saque = float(input(\"Digite o valor desejado para saque: \"))\n",
        "if valor_saque < 10 and valor_saque >600 :\n",
        "  print(\"Você digitou um valor não permitido. Tente novamente\")\n",
        "  quit()\n",
        "\n",
        "  \n",
        "  "
      ],
      "execution_count": 1,
      "outputs": [
        {
          "output_type": "stream",
          "text": [
            "Notas disponíveis para saque: 100, 50, 10, 5 e 1\n",
            "Valor mínimo para saque neste terminal: R$10.00\n",
            "Digite o valor desejado para saque:50\n",
            "teste\n"
          ],
          "name": "stdout"
        }
      ]
    }
  ]
}