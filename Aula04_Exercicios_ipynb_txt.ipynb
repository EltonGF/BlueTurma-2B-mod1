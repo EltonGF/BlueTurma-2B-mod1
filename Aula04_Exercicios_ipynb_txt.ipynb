{
  "nbformat": 4,
  "nbformat_minor": 0,
  "metadata": {
    "colab": {
      "name": "Aula04_Exercicios.ipynb.txt",
      "provenance": [],
      "collapsed_sections": [],
      "toc_visible": true,
      "include_colab_link": true
    },
    "kernelspec": {
      "name": "python3",
      "display_name": "Python 3"
    },
    "language_info": {
      "name": "python"
    }
  },
  "cells": [
    {
      "cell_type": "markdown",
      "metadata": {
        "id": "view-in-github",
        "colab_type": "text"
      },
      "source": [
        "<a href=\"https://colab.research.google.com/github/EltonGF/BlueTurma-2B-mod1/blob/main/Aula04_Exercicios_ipynb_txt.ipynb\" target=\"_parent\"><img src=\"https://colab.research.google.com/assets/colab-badge.svg\" alt=\"Open In Colab\"/></a>"
      ]
    },
    {
      "cell_type": "markdown",
      "metadata": {
        "id": "DptQTkwqN7v9"
      },
      "source": [
        "# Exercícios de Aquecimento\n",
        "\n",
        "## Exercício 01\n",
        "Elabore um programa que imprima na tela a seguinte frase `Olá Mundo! Esse é o meu primeiro programa`"
      ]
    },
    {
      "cell_type": "code",
      "metadata": {
        "id": "fu-Hvxg7OT64",
        "colab": {
          "base_uri": "https://localhost:8080/"
        },
        "outputId": "136f69ae-da9d-4009-f8af-c1182536a521"
      },
      "source": [
        "print(\"Olá mundo! Esse é o meu primeiro programa.\")"
      ],
      "execution_count": null,
      "outputs": [
        {
          "output_type": "stream",
          "text": [
            "Olá mundo! Esse é o meu primeiro programa.\n"
          ],
          "name": "stdout"
        }
      ]
    },
    {
      "cell_type": "markdown",
      "metadata": {
        "id": "HYnPLbl2OfuE"
      },
      "source": [
        "## Exercício 02\n",
        "Elabore um programa que escreve seu nome completo na primeira linha, seu endereço na segunda e o CEP e telefone na terceira.  \n",
        "\n",
        "**Exemplo:**\n",
        "```\n",
        "Nome: Bruno Fabri\n",
        "Endereço: Rua ABC\n",
        "CEP: 002220-010\n",
        "```"
      ]
    },
    {
      "cell_type": "code",
      "metadata": {
        "id": "sUrmuOzbO5Cd",
        "colab": {
          "base_uri": "https://localhost:8080/"
        },
        "outputId": "ba256287-9154-4f87-dd00-f77945d39471"
      },
      "source": [
        "#print(\"Nome: Elton Frois\")#\n",
        "#print(\"Endereço: Rua 10\")#\n",
        "#print(\"CEP: 13542-524\")#\n",
        "print(\"Nome: Elton Frois\\nEndereço: Rua 10\\nCEP: 13455-547\\nTelefone:94851455\")\n",
        "\n",
        "print(\"\"\"\n",
        "Nome: Elton\n",
        "Sobrenome: Frois\n",
        "Estado: Saõ Paulo)\n",
        "\"\"\")\n",
        "\n",
        "\n",
        "\n"
      ],
      "execution_count": null,
      "outputs": [
        {
          "output_type": "stream",
          "text": [
            "Nome: Elton Frois\n",
            "Endereço: Rua 10\n",
            "CEP: 13455-547\n",
            "Telefone:94851455\n",
            "\n",
            "Nome: Elton\n",
            "Sobrenome: Frois\n",
            "Estado: Saõ Paulo)\n",
            "\n"
          ],
          "name": "stdout"
        }
      ]
    },
    {
      "cell_type": "markdown",
      "metadata": {
        "id": "5XVY0cvwP1WX"
      },
      "source": [
        "## Exercício 03\n",
        "Elabore um programa que recebe o nome de uma pessoa do terminal e mostra a seguinte mensagem: `Olá {nome}! Seja bem vindo ao fantástico mundo da programação`"
      ]
    },
    {
      "cell_type": "code",
      "metadata": {
        "id": "VDfwe6OSQM0M",
        "colab": {
          "base_uri": "https://localhost:8080/"
        },
        "outputId": "5516d5c1-cac8-4643-f7fd-ea30e423bf05"
      },
      "source": [
        "nome = input(\"Digite seu nome: \")\n",
        "numero = input(\"Digite um número: \")\n",
        "\n",
        "print(\"Olá\", nome,\"! Seja bem vindo ao fantástico mundo da programação.\")\n",
        "print(\"Olá \" + nome + \"! Seja bem vindo ao fantástico mundo da programação.\")\n",
        "print(\"Olá {}! Seja bem vindo ao fantástico mundo da programação. E número escolhido {}.\".format(nome, numero))\n",
        "print(\"Olá {}! Seja bem vindo ao fantástico mundo da programação.\" .replace(\"{}\", nome))\n",
        "print(\"Olá {1}! Seja bem vindo ao fantástico mundo da programação. E número {0}\" .format(nome, 10))\n",
        "print(f\"Olá {nome}! Seja bem vindo ao fantástico mundo da programação. E número {numero}\")\n"
      ],
      "execution_count": null,
      "outputs": [
        {
          "output_type": "stream",
          "text": [
            "Digite seu nome: er\n",
            "Digite um número: 5\n",
            "Olá er ! Seja bem vindo ao fantástico mundo da programação.\n",
            "Olá er! Seja bem vindo ao fantástico mundo da programação.\n",
            "Olá er! Seja bem vindo ao fantástico mundo da programação. E número escolhido 5.\n",
            "Olá er! Seja bem vindo ao fantástico mundo da programação.\n",
            "Olá 10! Seja bem vindo ao fantástico mundo da programação. E número er\n",
            "Olá er! Seja bem vindo ao fantástico mundo da programação. E número 5\n"
          ],
          "name": "stdout"
        }
      ]
    },
    {
      "cell_type": "markdown",
      "metadata": {
        "id": "1Nb29agVQc3k"
      },
      "source": [
        "## Exercício 04\n",
        "Elabore um programa que recebe dois valores inteiros e mostra a soma desses valores\n",
        "\n",
        "**Exemplo:**\n",
        "\n",
        "```\n",
        "Primeiro Valor = 2\n",
        "Segundo Valor = 3\n",
        "Soma = 5\n",
        "```"
      ]
    },
    {
      "cell_type": "code",
      "metadata": {
        "id": "a6_BwVwRROmH",
        "colab": {
          "base_uri": "https://localhost:8080/"
        },
        "outputId": "55ed78a9-bd04-4a60-898c-4775c7a0e576"
      },
      "source": [
        "#Exemplo inteiro\n",
        "numero1_string = input(\"Digite o primeiro valor: \")\n",
        "numero1 = float(numero1_string)\n",
        "\n",
        "numero2 = float(input(\"Digite o segundo valor: \"))\n",
        "soma = numero1 + numero2\n",
        "print(\"Soma =\", soma)"
      ],
      "execution_count": null,
      "outputs": [
        {
          "output_type": "stream",
          "text": [
            "Digite o primeiro valor: 10\n",
            "Digite o segundo valor: 5\n",
            "Soma = 15.0\n"
          ],
          "name": "stdout"
        }
      ]
    },
    {
      "cell_type": "markdown",
      "metadata": {
        "id": "4HQxR3FTTbSr"
      },
      "source": [
        "## Exercício 05\n",
        "Elabore um programa que recebe dois valores inteiros e mostra se o primeiro valor é maior ou igual ao segundo valor\n",
        "\n",
        "**Exemplo:**\n",
        "```\n",
        "Primeiro Valor = 3\n",
        "Segundo Valor = 2\n",
        "Resultado = True\n",
        "```"
      ]
    },
    {
      "cell_type": "code",
      "metadata": {
        "id": "OXISQASdTeSW",
        "colab": {
          "base_uri": "https://localhost:8080/"
        },
        "outputId": "fd0801d7-03ca-477f-c265-39d5b40acede"
      },
      "source": [
        "numero1 = float(input(\"Digite o primeiro valor: \"))\n",
        "numero2 = float(input(\"Digite o segundo valor: \"))\n",
        "print(numero1 >= numero2)\n",
        "print(numero1 < numero2)\n",
        "print(numero1 != numero2)\n",
        "print(numero1 == numero2)"
      ],
      "execution_count": null,
      "outputs": [
        {
          "output_type": "stream",
          "text": [
            "Digite o primeiro valor: 10\n",
            "Digite o segundo valor: 5\n",
            "True\n",
            "False\n",
            "True\n",
            "False\n"
          ],
          "name": "stdout"
        }
      ]
    },
    {
      "cell_type": "markdown",
      "metadata": {
        "id": "Gn8rHPn3UCnc"
      },
      "source": [
        "## Exercício 06\n",
        "Elabore um programa que recebe o seu nome, endereço e hobby e mostra cada uma das informações da seguinte forma:\n",
        "- Nome -> Letra maiúscula\n",
        "- Endereço -> Letra minúscula\n",
        "- Hobby -> Primeira letra maiúscula\n",
        "\n",
        "**Exemplo Entrada:**\n",
        "```\n",
        "Nome: bruno fabri\n",
        "Endereço: Rua ABC\n",
        "Hobby: jogar cs\n",
        "```\n",
        "\n",
        "**Exemplo Saída:**\n",
        "```\n",
        "Nome: BRUNO FABRI\n",
        "Endereço: rua abc\n",
        "Hobby: Jogar cs\n",
        "```"
      ]
    },
    {
      "cell_type": "code",
      "metadata": {
        "id": "ZIj-PGVZVVP6",
        "colab": {
          "base_uri": "https://localhost:8080/"
        },
        "outputId": "5f3560b8-9df4-43b1-b8bf-5d5b695705d2"
      },
      "source": [
        "#Forma 1\n",
        "nome = input(\"Digite seu nome: \")\n",
        "endereco = input(\"Digite seu endereço: \")\n",
        "hobby = input(\"Digite seu Hobby: \")\n",
        "\n",
        "print(nome.upper())\n",
        "print(nome.lower())\n",
        "print(nome.title())\n",
        "print(nome.capitalize())\n",
        "\n",
        "\n",
        "#Forma 2\n",
        "nome = input(\"Digite seu nome: \").upper()\n",
        "endereco = input(\"Digite seu endereço: \").lower()\n",
        "hobby = input(\"Digite seu Hobby: \").capitalize()\n",
        "print('''\n",
        "Nome:{}\n",
        "Endereço:{}\n",
        "Hobby:{}\n",
        "''' .format(nome,endereco,hobby))\n",
        "\n",
        "\n",
        "#Forma 3\n",
        "nome = input(\"Digite seu nome: \")\n",
        "endereco = input(\"Digite seu endereço: \")\n",
        "hobby = input(\"Digite seu Hobby: \")\n",
        "\n",
        "print(f\"{nome.upper()}\\n{endereco.lower()}\\n{hobby.capitalize()}\")\n"
      ],
      "execution_count": 3,
      "outputs": [
        {
          "output_type": "stream",
          "text": [
            "Digite seu nome: Elton\n",
            "Digite seu endereço: Rua 1\n",
            "Digite seu Hobby: Futebol\n",
            "ELTON\n",
            "elton\n",
            "Elton\n",
            "Elton\n",
            "Digite seu nome: ggg\n",
            "Digite seu endereço: ccc\n",
            "Digite seu Hobby: ccc\n",
            "\n",
            "Nome:GGG\n",
            "Endereço:ccc\n",
            "Hobby:Ccc\n",
            "\n",
            "Digite seu nome: el\n",
            "Digite seu endereço: jd\n",
            "Digite seu Hobby: dd\n",
            "EL\n",
            "jd\n",
            "Dd\n"
          ],
          "name": "stdout"
        }
      ]
    },
    {
      "cell_type": "markdown",
      "metadata": {
        "id": "wlvmEAPQNrcL"
      },
      "source": [
        "# Mini Projetos"
      ]
    },
    {
      "cell_type": "markdown",
      "metadata": {
        "id": "W8zwueNBKh4B"
      },
      "source": [
        "## Mini Projeto 01 - Conversor de Moeda\n",
        "Vamos construir um programa que irá converter moedas do real para o dólar e do dólar para o real. Vamos considerar que `$ 1,00 = R$ 5,75`\n",
        "\n",
        "### Parte 1\n",
        "Faça o conversor de moeda receber o valor em real e mostrar o valor convertido para dólar no formato `$ XXXX.XX`\n",
        "\n",
        "**Exemplo:**\n",
        "\n",
        "```\n",
        "Valor em R$ = 1000\n",
        "Valor em $ = $ 173.91\n",
        "```\n",
        "\n",
        "### Parte 2\n",
        "Altere o conversor de moedas para receber o valor em dólar, converter para real e mostrar o resultado no formato `R$ XXXX.XX`\n",
        "\n",
        "**Exemplo:**\n",
        "```\n",
        "Valor em $ = 1000\n",
        "Valor em R$ = R$ 5750.00\n",
        "```"
      ]
    },
    {
      "cell_type": "code",
      "metadata": {
        "id": "mRQ9fpIgMp5Z",
        "colab": {
          "base_uri": "https://localhost:8080/"
        },
        "outputId": "7b464bfb-2fdc-4dad-b5ee-375549821511"
      },
      "source": [
        "#Parte1\n",
        "valor = float(input(\"Digite valor em a ser convertido de R$ para $: \"))\n",
        "dolar = 5.75\n",
        "print(\"Valor em dólar: ${:.2f}\" .format(valor/dolar))\n",
        "\n",
        "#Parte2\n",
        "valor1 = float(input(\"Digite valor a ser convertido de $ para R$: \"))\n",
        "print(\"Valor em Reais: R${:.2f}\" .format(valor1*dolar))\n",
        "\n"
      ],
      "execution_count": 42,
      "outputs": [
        {
          "output_type": "stream",
          "text": [
            "Digite valor em a ser convertido de R$ para $: 5.75\n",
            "Valor em dólar: $1.00\n",
            "Digite valor a ser convertido de $ para R$: 5.75\n",
            "Valor em Reais: R$33.06\n"
          ],
          "name": "stdout"
        }
      ]
    },
    {
      "cell_type": "markdown",
      "metadata": {
        "id": "0NmAiF2DV_ju"
      },
      "source": [
        "## Mini Projeto 02 - Calculadora de aumento de aluguel\n",
        "Vamos construir um programa que irá calcular o aumento anual do seu aluguel em duas partes:\n",
        "\n",
        "### Parte 1\n",
        "A sua calculadora vai receber o `valor do aluguel` e calcular o aumento baseado no `IGPM de 31%`. A calculadora deve apresentar o aluguel reajustado no formato `R$ XXXX.XX`\n",
        "\n",
        "**Exemplo:**\n",
        "```\n",
        "Valor do aluguel = 1000\n",
        "Valor do aluguel reajustado = R$ 1310,00\n",
        "```\n",
        "\n",
        "### Parte 2\n",
        "Agora, altere sua calculadora para receber além do `valor do aluguel`, o percentual do reajuste no formato `XX%`.  \n",
        "\n",
        "**Dica:** Descubra uma forma de transformar o percentual recebido em um número para efetuar o cálculo.\n",
        "\n",
        "**Exemplo:**\n",
        "```\n",
        "Valor do aluguel = 1000\n",
        "Percentual do reajuste = 31%\n",
        "Valor do aluguel reajustado = R% 1310,00\n",
        "```"
      ]
    },
    {
      "cell_type": "code",
      "metadata": {
        "id": "vVjAK5NTesZ0"
      },
      "source": [
        ""
      ],
      "execution_count": null,
      "outputs": []
    },
    {
      "cell_type": "code",
      "metadata": {
        "id": "0eHzSCyaGkYJ",
        "colab": {
          "base_uri": "https://localhost:8080/"
        },
        "outputId": "f8ded611-12ae-4ee4-d800-3ca784f93ae7"
      },
      "source": [
        "#Parte1\n",
        "\n",
        "valor_aluguel = float(input(\"Valor do aluguel: \"))\n",
        "percentual_reajuste = 1.31\n",
        "valor_aluguel_reajustado = valor_aluguel * percentual_reajuste\n",
        "print(f\"O valor a ser pago é R$ {valor_aluguel_reajustado:.2f}\")\n",
        "print(\"Total a ser pago: R$ {:.2f}\" .format(valor_aluguel_reajustado))\n",
        "\n",
        "#Parte2\n",
        "print(\"\")\n",
        "\n",
        "valor_alug = float(input(\"Qual o valor do aluguel? \"))\n",
        "valor_perc_ajuste = input(\"Qual valor em porcentagem do reajuste? \")\n",
        "valor_perc_ajust_dec = float(valor_perc_ajuste.replace(\"%\", \"\")) /100 + 1\n",
        "valor_reajustado = valor_alug * valor_perc_ajust_dec\n",
        "print(f\"Valor total a ser pago de aluguel é: R$ {valor_reajustado :.2f}\")\n",
        "\n",
        "\n",
        "#Retornando valor da diferença em percentual.\n",
        "print(\"\")\n",
        "\n",
        "valor_alug1 = float(input(\"Qual o valor do aluguel atualmente? \"))\n",
        "valor_reaj = float(input(\"Qual valor do reajuste do mês? \"))\n",
        "valor_tot = (valor_alug1+valor_reaj)\n",
        "valor_perc = (valor_reaj/valor_alug1)*100\n",
        "print(\"A porcentagem de reajuste do mês foi de: {:.2f}%\" .format(valor_perc))"
      ],
      "execution_count": 30,
      "outputs": [
        {
          "output_type": "stream",
          "text": [
            "Valor do aluguel: 1000\n",
            "O valor a ser pago é R$ 1310.00\n",
            "Total a ser pago: R$ 1310.00\n",
            "\n",
            "Qual o valor do aluguel? 2000\n",
            "Qual valor em porcentagem do reajuste? 20%\n",
            "Valor total a ser pago de aluguel é: R$ 2400.00\n",
            "\n",
            "Qual o valor do aluguel atualmente? 3000\n",
            "Qual valor do reajuste do mês? 254\n",
            "A porcentagem de reajuste do mês foi de: 8.47%\n"
          ],
          "name": "stdout"
        }
      ]
    },
    {
      "cell_type": "markdown",
      "metadata": {
        "id": "xN88sUuMOG46"
      },
      "source": [
        "## Mini Projeto 03 - Calculadora de dano\n",
        "Vamos implementar a calculadora de dano de RPG!!\n",
        "\n",
        "### Parte 1\n",
        "O programa vai receber a `vida e um monstro (entre 10 e 50)` e o `valor do ataque do jogador por turno (entre 5 e 10)`\n",
        "\n",
        "Baseado nos valores, exiba a quantidade de turnos que o jogador irá demorar para conseguir derrotar o monstro.\n",
        "\n",
        "**Exemplo:**\n",
        "```\n",
        "Vida de um monstro (entre 10 e 50): 26\n",
        "Valor do ataque do jogador por turno (entre 5 e 10): 5\n",
        "Resultado: O jogador irá precisar de 6 turnos para derrotar o monstro.\n",
        "```\n",
        "\n",
        "### Parte 2\n",
        "Altere o programa para ao invés de receber a vida do monstro, gerar aleatoriamente um valor entre 10 e 50."
      ]
    },
    {
      "cell_type": "code",
      "metadata": {
        "id": "Mrpz9UomQH2P",
        "colab": {
          "base_uri": "https://localhost:8080/"
        },
        "outputId": "caaba3b4-f584-48a9-feea-9691ea9ba8ef"
      },
      "source": [
        "#Parte 1\n",
        "\n",
        "vida_monstro = int(input(\"Digite um número entre 10 e 50 para vida do monstro: \"))\n",
        "valor_ataque = int(input(\"Digite um número entre 5 e 10 para ataque do jogador: \"))\n",
        "resultado_dano = int(vida_monstro / valor_ataque)\n",
        "resto_dano = int(vida_monstro % valor_ataque)\n",
        "if resto_dano > 0 :\n",
        "  resultado_dano = resultado_dano + 1\n",
        "  print(\"O jogador precisará de\",resultado_dano,\"turno(s) para vencer.\")\n",
        "else :\n",
        "  print(\"O jogador precisará de\",resultado_dano,\"turno(s) para vencer.\")\n",
        "\n"
      ],
      "execution_count": 62,
      "outputs": [
        {
          "output_type": "stream",
          "text": [
            "Digite um número entre 10 e 50 para vida do monstro: 10\n",
            "Digite um número entre 5 e 10 para ataque do jogador: 10\n",
            "O jogador precisará de 1 turno(s) para vencer.\n"
          ],
          "name": "stdout"
        }
      ]
    },
    {
      "cell_type": "code",
      "metadata": {
        "colab": {
          "base_uri": "https://localhost:8080/"
        },
        "id": "MIehrefqpTgb",
        "outputId": "3a15018c-b3fd-4fc7-96f0-2ea1add5fd66"
      },
      "source": [
        "#Parte 1\n",
        "import math\n",
        "\n",
        "vida_monstro = int(input(\"Vida de um monstro (entre 10 e 50): \"))\n",
        "ataque_jogador = int(input(\"Valor do ataque do jogador por turno (entre 5 e 10): \"))\n",
        "\n",
        "turnos_necessarios = math.ceil(vida_monstro / ataque_jogador)\n",
        "\n",
        "print(f\"O jogador irá precisar de {turnos_necessarios} turnos para derrotar o monstro.\")\n",
        "\n",
        "print(\"\")\n",
        "\n",
        "#Parte 2\n",
        "import math\n",
        "import random\n",
        "\n",
        "vida_monstro = random.randint(10, 50)\n",
        "ataque_jogador = int(input(\"Valor do ataque do jogador por turno (entre 5 e 10): \"))\n",
        "\n",
        "turnos_necessarios = math.ceil(vida_monstro / ataque_jogador)\n",
        "\n",
        "print(f\"Vida do monstro: {vida_monstro}\")\n",
        "print(f\"O jogador irá precisar de {turnos_necessarios} turnos para derrotar o monstro.\")"
      ],
      "execution_count": 66,
      "outputs": [
        {
          "output_type": "stream",
          "text": [
            "Vida de um monstro (entre 10 e 50): 33\n",
            "Valor do ataque do jogador por turno (entre 5 e 10): 7\n",
            "O jogador irá precisar de 5 turnos para derrotar o monstro.\n",
            "\n",
            "Valor do ataque do jogador por turno (entre 5 e 10): 7\n",
            "Vida do monstro: 18\n",
            "O jogador irá precisar de 3 turnos para derrotar o monstro.\n"
          ],
          "name": "stdout"
        }
      ]
    }
  ]
}