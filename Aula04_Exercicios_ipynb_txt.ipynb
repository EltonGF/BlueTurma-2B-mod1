{
  "nbformat": 4,
  "nbformat_minor": 0,
  "metadata": {
    "colab": {
      "name": "Aula04_Exercicios.ipynb.txt",
      "provenance": [],
      "collapsed_sections": [],
      "toc_visible": true,
      "include_colab_link": true
    },
    "kernelspec": {
      "name": "python3",
      "display_name": "Python 3"
    },
    "language_info": {
      "name": "python"
    }
  },
  "cells": [
    {
      "cell_type": "markdown",
      "metadata": {
        "id": "view-in-github",
        "colab_type": "text"
      },
      "source": [
        "<a href=\"https://colab.research.google.com/github/EltonGF/BlueTurma-2B-mod1/blob/main/Aula04_Exercicios_ipynb_txt.ipynb\" target=\"_parent\"><img src=\"https://colab.research.google.com/assets/colab-badge.svg\" alt=\"Open In Colab\"/></a>"
      ]
    },
    {
      "cell_type": "markdown",
      "metadata": {
        "id": "DptQTkwqN7v9"
      },
      "source": [
        "# Exercícios de Aquecimento\n",
        "\n",
        "## Exercício 01\n",
        "Elabore um programa que imprima na tela a seguinte frase `Olá Mundo! Esse é o meu primeiro programa`"
      ]
    },
    {
      "cell_type": "code",
      "metadata": {
        "id": "fu-Hvxg7OT64",
        "colab": {
          "base_uri": "https://localhost:8080/"
        },
        "outputId": "136f69ae-da9d-4009-f8af-c1182536a521"
      },
      "source": [
        "print(\"Olá mundo! Esse é o meu primeiro programa.\")"
      ],
      "execution_count": 2,
      "outputs": [
        {
          "output_type": "stream",
          "text": [
            "Olá mundo! Esse é o meu primeiro programa.\n"
          ],
          "name": "stdout"
        }
      ]
    },
    {
      "cell_type": "markdown",
      "metadata": {
        "id": "HYnPLbl2OfuE"
      },
      "source": [
        "## Exercício 02\n",
        "Elabore um programa que escreve seu nome completo na primeira linha, seu endereço na segunda e o CEP e telefone na terceira.  \n",
        "\n",
        "**Exemplo:**\n",
        "```\n",
        "Nome: Bruno Fabri\n",
        "Endereço: Rua ABC\n",
        "CEP: 002220-010\n",
        "```"
      ]
    },
    {
      "cell_type": "code",
      "metadata": {
        "id": "sUrmuOzbO5Cd",
        "colab": {
          "base_uri": "https://localhost:8080/"
        },
        "outputId": "ba256287-9154-4f87-dd00-f77945d39471"
      },
      "source": [
        "#print(\"Nome: Elton Frois\")#\n",
        "#print(\"Endereço: Rua 10\")#\n",
        "#print(\"CEP: 13542-524\")#\n",
        "print(\"Nome: Elton Frois\\nEndereço: Rua 10\\nCEP: 13455-547\\nTelefone:94851455\")\n",
        "\n",
        "print(\"\"\"\n",
        "Nome: Elton\n",
        "Sobrenome: Frois\n",
        "Estado: Saõ Paulo)\n",
        "\"\"\")\n",
        "\n",
        "\n",
        "\n"
      ],
      "execution_count": 47,
      "outputs": [
        {
          "output_type": "stream",
          "text": [
            "Nome: Elton Frois\n",
            "Endereço: Rua 10\n",
            "CEP: 13455-547\n",
            "Telefone:94851455\n",
            "\n",
            "Nome: Elton\n",
            "Sobrenome: Frois\n",
            "Estado: Saõ Paulo)\n",
            "\n"
          ],
          "name": "stdout"
        }
      ]
    },
    {
      "cell_type": "markdown",
      "metadata": {
        "id": "5XVY0cvwP1WX"
      },
      "source": [
        "## Exercício 03\n",
        "Elabore um programa que recebe o nome de uma pessoa do terminal e mostra a seguinte mensagem: `Olá {nome}! Seja bem vindo ao fantástico mundo da programação`"
      ]
    },
    {
      "cell_type": "code",
      "metadata": {
        "id": "VDfwe6OSQM0M",
        "colab": {
          "base_uri": "https://localhost:8080/"
        },
        "outputId": "5516d5c1-cac8-4643-f7fd-ea30e423bf05"
      },
      "source": [
        "nome = input(\"Digite seu nome: \")\n",
        "numero = input(\"Digite um número: \")\n",
        "\n",
        "print(\"Olá\", nome,\"! Seja bem vindo ao fantástico mundo da programação.\")\n",
        "print(\"Olá \" + nome + \"! Seja bem vindo ao fantástico mundo da programação.\")\n",
        "print(\"Olá {}! Seja bem vindo ao fantástico mundo da programação. E número escolhido {}.\".format(nome, numero))\n",
        "print(\"Olá {}! Seja bem vindo ao fantástico mundo da programação.\" .replace(\"{}\", nome))\n",
        "print(\"Olá {1}! Seja bem vindo ao fantástico mundo da programação. E número {0}\" .format(nome, 10))\n",
        "print(f\"Olá {nome}! Seja bem vindo ao fantástico mundo da programação. E número {numero}\")\n"
      ],
      "execution_count": 54,
      "outputs": [
        {
          "output_type": "stream",
          "text": [
            "Digite seu nome: er\n",
            "Digite um número: 5\n",
            "Olá er ! Seja bem vindo ao fantástico mundo da programação.\n",
            "Olá er! Seja bem vindo ao fantástico mundo da programação.\n",
            "Olá er! Seja bem vindo ao fantástico mundo da programação. E número escolhido 5.\n",
            "Olá er! Seja bem vindo ao fantástico mundo da programação.\n",
            "Olá 10! Seja bem vindo ao fantástico mundo da programação. E número er\n",
            "Olá er! Seja bem vindo ao fantástico mundo da programação. E número 5\n"
          ],
          "name": "stdout"
        }
      ]
    },
    {
      "cell_type": "markdown",
      "metadata": {
        "id": "1Nb29agVQc3k"
      },
      "source": [
        "## Exercício 04\n",
        "Elabore um programa que recebe dois valores inteiros e mostra a soma desses valores\n",
        "\n",
        "**Exemplo:**\n",
        "\n",
        "```\n",
        "Primeiro Valor = 2\n",
        "Segundo Valor = 3\n",
        "Soma = 5\n",
        "```"
      ]
    },
    {
      "cell_type": "code",
      "metadata": {
        "id": "a6_BwVwRROmH",
        "colab": {
          "base_uri": "https://localhost:8080/"
        },
        "outputId": "55ed78a9-bd04-4a60-898c-4775c7a0e576"
      },
      "source": [
        "#Exemplo inteiro\n",
        "numero1_string = input(\"Digite o primeiro valor: \")\n",
        "numero1 = float(numero1_string)\n",
        "\n",
        "numero2 = float(input(\"Digite o segundo valor: \"))\n",
        "soma = numero1 + numero2\n",
        "print(\"Soma =\", soma)"
      ],
      "execution_count": 56,
      "outputs": [
        {
          "output_type": "stream",
          "text": [
            "Digite o primeiro valor: 10\n",
            "Digite o segundo valor: 5\n",
            "Soma = 15.0\n"
          ],
          "name": "stdout"
        }
      ]
    },
    {
      "cell_type": "markdown",
      "metadata": {
        "id": "4HQxR3FTTbSr"
      },
      "source": [
        "## Exercício 05\n",
        "Elabore um programa que recebe dois valores inteiros e mostra se o primeiro valor é maior ou igual ao segundo valor\n",
        "\n",
        "**Exemplo:**\n",
        "```\n",
        "Primeiro Valor = 3\n",
        "Segundo Valor = 2\n",
        "Resultado = True\n",
        "```"
      ]
    },
    {
      "cell_type": "code",
      "metadata": {
        "id": "OXISQASdTeSW",
        "colab": {
          "base_uri": "https://localhost:8080/"
        },
        "outputId": "fd0801d7-03ca-477f-c265-39d5b40acede"
      },
      "source": [
        "numero1 = float(input(\"Digite o primeiro valor: \"))\n",
        "numero2 = float(input(\"Digite o segundo valor: \"))\n",
        "print(numero1 >= numero2)\n",
        "print(numero1 < numero2)\n",
        "print(numero1 != numero2)\n",
        "print(numero1 == numero2)"
      ],
      "execution_count": 59,
      "outputs": [
        {
          "output_type": "stream",
          "text": [
            "Digite o primeiro valor: 10\n",
            "Digite o segundo valor: 5\n",
            "True\n",
            "False\n",
            "True\n",
            "False\n"
          ],
          "name": "stdout"
        }
      ]
    },
    {
      "cell_type": "markdown",
      "metadata": {
        "id": "Gn8rHPn3UCnc"
      },
      "source": [
        "## Exercício 06\n",
        "Elabore um programa que recebe o seu nome, endereço e hobby e mostra cada uma das informações da seguinte forma:\n",
        "- Nome -> Letra maiúscula\n",
        "- Endereço -> Letra minúscula\n",
        "- Hobby -> Primeira letra maiúscula\n",
        "\n",
        "**Exemplo Entrada:**\n",
        "```\n",
        "Nome: bruno fabri\n",
        "Endereço: Rua ABC\n",
        "Hobby: jogar cs\n",
        "```\n",
        "\n",
        "**Exemplo Saída:**\n",
        "```\n",
        "Nome: BRUNO FABRI\n",
        "Endereço: rua abc\n",
        "Hobby: Jogar cs\n",
        "```"
      ]
    },
    {
      "cell_type": "code",
      "metadata": {
        "id": "ZIj-PGVZVVP6",
        "colab": {
          "base_uri": "https://localhost:8080/"
        },
        "outputId": "195d6f6c-755c-49f3-9bf9-c826a0871d7d"
      },
      "source": [
        "#Forma 1\n",
        "nome = input(\"Digite seu nome: \")\n",
        "endereco = input(\"Digite seu endereço: \")\n",
        "hobby = input(\"Digite seu Hobby: \")\n",
        "\n",
        "print(nome.upper())\n",
        "print(nome.lower())\n",
        "print(nome.title())\n",
        "print(nome.capitalize())\n",
        "\n",
        "\n",
        "#Forma 2\n",
        "nome = input(\"Digite seu nome: \").upper()\n",
        "endereco = input(\"Digite seu endereço: \").lower()\n",
        "hobby = input(\"Digite seu Hobby: \").capitalize()\n",
        "print('''\n",
        "Nome:{}\n",
        "Endereço:{}\n",
        "Hobby:{}\n",
        "''' .format(nome,endereco,hobby))\n",
        "\n",
        "\n",
        "b#Forma 3\n",
        "nome = input(\"Digite seu nome: \")\n",
        "endereco = input(\"Digite seu endereço: \")\n",
        "hobby = input(\"Digite seu Hobby: \")\n",
        "\n",
        "print(f\"{nome.upper()}\\n{endereco.lower()}\\n{hobby.capitalize()}\")\n"
      ],
      "execution_count": 69,
      "outputs": [
        {
          "output_type": "stream",
          "text": [
            "Digite seu nome: bb\n",
            "Digite seu endereço: bb\n",
            "Digite seu Hobby: bb\n",
            "BB\n",
            "bb\n",
            "Bb\n",
            "Bb\n",
            "Digite seu nome: nn\n",
            "Digite seu endereço: nn\n",
            "Digite seu Hobby: nn\n",
            "\n",
            "Nome:NN\n",
            "Endereço:nn\n",
            "Hobby:Nn\n",
            "\n",
            "Digite seu nome: mm\n",
            "Digite seu endereço: mm\n",
            "Digite seu Hobby: mm\n",
            "MM\n",
            "mm\n",
            "Mm\n"
          ],
          "name": "stdout"
        }
      ]
    },
    {
      "cell_type": "markdown",
      "metadata": {
        "id": "wlvmEAPQNrcL"
      },
      "source": [
        "# Mini Projetos"
      ]
    },
    {
      "cell_type": "markdown",
      "metadata": {
        "id": "W8zwueNBKh4B"
      },
      "source": [
        "## Mini Projeto 01 - Conversor de Moeda\n",
        "Vamos construir um programa que irá converter moedas do real para o dólar e do dólar para o real. Vamos considerar que `$ 1,00 = R$ 5,75`\n",
        "\n",
        "### Parte 1\n",
        "Faça o conversor de moeda receber o valor em real e mostrar o valor convertido para dólar no formato `$ XXXX.XX`\n",
        "\n",
        "**Exemplo:**\n",
        "\n",
        "```\n",
        "Valor em R$ = 1000\n",
        "Valor em $ = $ 173.91\n",
        "```\n",
        "\n",
        "### Parte 2\n",
        "Altere o conversor de moedas para receber o valor em dólar, converter para real e mostrar o resultado no formato `R$ XXXX.XX`\n",
        "\n",
        "**Exemplo:**\n",
        "```\n",
        "Valor em $ = 1000\n",
        "Valor em R$ = R$ 5750.00\n",
        "```"
      ]
    },
    {
      "cell_type": "code",
      "metadata": {
        "id": "mRQ9fpIgMp5Z",
        "colab": {
          "base_uri": "https://localhost:8080/"
        },
        "outputId": "98556dc9-7a2d-4f0f-e8bc-696d536f47c1"
      },
      "source": [
        "#Parte1\n",
        "valor = float(input(\"Digite valor em a ser convertido de R$ para $: \"))\n",
        "dolar = 5.75\n",
        "print(\"Valor em dólar: {:.2f}\" .format(dolar/valor))\n",
        "\n",
        "#Parte2\n",
        "valor1 = float(input(\"Digite valor a ser convertido de $ para R$: \"))\n",
        "print(\"Valor em Reais: {:.2f}\" .format(valor1*dolar))\n",
        "\n"
      ],
      "execution_count": 33,
      "outputs": [
        {
          "output_type": "stream",
          "text": [
            "Digite valor em a ser convertido de R$ para $: 10\n",
            "Valor em dólar: 0.57\n",
            "Digite valor a ser convertido de $ para R$: 5\n",
            "Valor em Reais: 28.75\n"
          ],
          "name": "stdout"
        }
      ]
    },
    {
      "cell_type": "markdown",
      "metadata": {
        "id": "0NmAiF2DV_ju"
      },
      "source": [
        "## Mini Projeto 02 - Calculadora de aumento de aluguel\n",
        "Vamos construir um programa que irá calcular o aumento anual do seu aluguel em duas partes:\n",
        "\n",
        "### Parte 1\n",
        "A sua calculadora vai receber o `valor do aluguel` e calcular o aumento baseado no `IGPM de 31%`. A calculadora deve apresentar o aluguel reajustado no formato `R$ XXXX.XX`\n",
        "\n",
        "**Exemplo:**\n",
        "```\n",
        "Valor do aluguel = 1000\n",
        "Valor do aluguel reajustado = R$ 1310,00\n",
        "```\n",
        "\n",
        "### Parte 2\n",
        "Agora, altere sua calculadora para receber além do `valor do aluguel`, o percentual do reajuste no formato `XX%`.  \n",
        "\n",
        "**Dica:** Descubra uma forma de transformar o percentual recebido em um número para efetuar o cálculo.\n",
        "\n",
        "**Exemplo:**\n",
        "```\n",
        "Valor do aluguel = 1000\n",
        "Percentual do reajuste = 31%\n",
        "Valor do aluguel reajustado = R% 1310,00\n",
        "```"
      ]
    },
    {
      "cell_type": "code",
      "metadata": {
        "id": "vVjAK5NTesZ0"
      },
      "source": [
        ""
      ],
      "execution_count": null,
      "outputs": []
    },
    {
      "cell_type": "code",
      "metadata": {
        "id": "0eHzSCyaGkYJ",
        "colab": {
          "base_uri": "https://localhost:8080/"
        },
        "outputId": "6cc80783-3b2c-41f5-ce3a-3220553c2988"
      },
      "source": [
        "#Parte1\n",
        "valor_alug = float(input(\"Qual o valor do aluguel atualmente? \"))\n",
        "valor_igpm = float(input(\"Qual valor percentual do IGPM do mês? \"))\n",
        "valor_igpm_dec = (valor_igpm/100)\n",
        "print(\"Valor do aluguel reajustado: R$ {:.2f}\" .format(valor_alug+(valor_alug*valor_igpm_dec)))\n",
        "\n",
        "#Parte2\n",
        "valor_alug1 = float(input(\"Qual o valor do aluguel atualmente? \"))\n",
        "valor_reaj = float(input(\"Qual valor do reajuste do mês? \"))\n",
        "valor_tot = (valor_alug1+valor_reaj)\n",
        "valor_perc = (valor_reaj/valor_alug1)*100\n",
        "print(\"A porcentagem de reajuste do mês foi de: {:.2f}%\" .format(valor_perc))"
      ],
      "execution_count": 46,
      "outputs": [
        {
          "output_type": "stream",
          "text": [
            "Qual o valor do aluguel atualmente? 1000\n",
            "Qual valor percentual do IGPM do mês? 10\n",
            "Valor do aluguel reajustado: R$ 1100.00\n",
            "Qual o valor do aluguel atualmente? 1000\n",
            "Qual valor do reajuste do mês? 100\n",
            "A porcentagem de reajuste do mês foi de: 10.00%\n"
          ],
          "name": "stdout"
        }
      ]
    },
    {
      "cell_type": "markdown",
      "metadata": {
        "id": "xN88sUuMOG46"
      },
      "source": [
        "## Mini Projeto 03 - Calculadora de dano\n",
        "Vamos implementar a calculadora de dano de RPG!!\n",
        "\n",
        "### Parte 1\n",
        "O programa vai receber a `vida e um monstro (entre 10 e 50)` e o `valor do ataque do jogador por turno (entre 5 e 10)`\n",
        "\n",
        "Baseado nos valores, exiba a quantidade de turnos que o jogador irá demorar para conseguir derrotar o monstro.\n",
        "\n",
        "**Exemplo:**\n",
        "```\n",
        "Vida de um monstro (entre 10 e 50): 26\n",
        "Valor do ataque do jogador por turno (entre 5 e 10): 5\n",
        "Resultado: O jogador irá precisar de 6 turnos para derrotar o monstro.\n",
        "```\n",
        "\n",
        "### Parte 2\n",
        "Altere o programa para ao invés de receber a vida do monstro, gerar aleatoriamente um valor entre 10 e 50."
      ]
    },
    {
      "cell_type": "code",
      "metadata": {
        "id": "Mrpz9UomQH2P"
      },
      "source": [
        ""
      ],
      "execution_count": null,
      "outputs": []
    }
  ]
}